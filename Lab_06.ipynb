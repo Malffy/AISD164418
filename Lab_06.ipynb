{
  "nbformat": 4,
  "nbformat_minor": 0,
  "metadata": {
    "colab": {
      "provenance": [],
      "toc_visible": true,
      "authorship_tag": "ABX9TyNLnR/9yB8VNMRRHJKVy7yb",
      "include_colab_link": true
    },
    "kernelspec": {
      "name": "python3",
      "display_name": "Python 3"
    },
    "language_info": {
      "name": "python"
    },
    "gpuClass": "standard"
  },
  "cells": [
    {
      "cell_type": "markdown",
      "metadata": {
        "id": "view-in-github",
        "colab_type": "text"
      },
      "source": [
        "<a href=\"https://colab.research.google.com/github/Malffy/AISD164418/blob/main/Lab_06.ipynb\" target=\"_parent\"><img src=\"https://colab.research.google.com/assets/colab-badge.svg\" alt=\"Open In Colab\"/></a>"
      ]
    },
    {
      "cell_type": "markdown",
      "source": [
        "# **BinaryNode**\n"
      ],
      "metadata": {
        "id": "BBYy9Frmf4Uw"
      }
    },
    {
      "cell_type": "code",
      "source": [
        "from typing import Any\n",
        "\n",
        "class BinaryNode:\n",
        "    value: Any\n",
        "    left_child: 'BinaryNode'\n",
        "    right_child: 'BinaryNode'\n",
        "\n",
        "    def __init__(self, value:Any) -> None:\n",
        "      self.value = value\n",
        "      self.left_child = None\n",
        "      self.right_child = None\n",
        "\n",
        "    def min(self) -> 'BinaryNode':\n",
        "      if self.left_child:\n",
        "        return self.left_child.min()\n",
        "      else:\n",
        "        return self.left_child\n",
        "\n",
        "    def insert(self, node: 'BinaryNode', value:Any) -> None:\n",
        "      if node == None:\n",
        "        if value < node.value:\n",
        "          node.left_child = node.insert(node.left_child,value)\n",
        "        else:\n",
        "          node.right_child = node.insert(node.right_child,value)\n",
        "      else:\n",
        "        node=BinaryNode(value)\n",
        "      return node\n",
        "      \n",
        "        \n",
        "\n",
        "        \n"
      ],
      "metadata": {
        "id": "oRoBwEmPf58A"
      },
      "execution_count": null,
      "outputs": []
    },
    {
      "cell_type": "markdown",
      "source": [
        "# BinaryNodeTree\n"
      ],
      "metadata": {
        "id": "C_4d6_gOgwrj"
      }
    },
    {
      "cell_type": "code",
      "source": [
        "\n",
        "\n",
        "class BinarySearchTree:\n",
        "    root: BinaryNode"
      ],
      "metadata": {
        "id": "uMjI3-1Qf6Of"
      },
      "execution_count": null,
      "outputs": []
    },
    {
      "cell_type": "markdown",
      "source": [
        "# Main\n"
      ],
      "metadata": {
        "id": "yiBRZb2IjNcn"
      }
    },
    {
      "cell_type": "code",
      "source": [],
      "metadata": {
        "id": "In0-eRNnjUfy"
      },
      "execution_count": null,
      "outputs": []
    }
  ]
}